{
 "cells": [
  {
   "cell_type": "code",
   "execution_count": 8,
   "id": "2521c0fc",
   "metadata": {},
   "outputs": [
    {
     "name": "stdout",
     "output_type": "stream",
     "text": [
      "enter the 1st no 10\n",
      "enter the 2nd no 20\n",
      "10\n",
      "20\n",
      "sum = 30\n"
     ]
    }
   ],
   "source": [
    "a=int(input('enter the 1st no '))\n",
    "b=int(input('enter the 2nd no '))\n",
    "print(a)\n",
    "print(b)\n",
    "sum=a+b;\n",
    "print(\"sum =\",a+b)"
   ]
  }
 ],
 "metadata": {
  "kernelspec": {
   "display_name": "Python 3 (ipykernel)",
   "language": "python",
   "name": "python3"
  },
  "language_info": {
   "codemirror_mode": {
    "name": "ipython",
    "version": 3
   },
   "file_extension": ".py",
   "mimetype": "text/x-python",
   "name": "python",
   "nbconvert_exporter": "python",
   "pygments_lexer": "ipython3",
   "version": "3.9.12"
  }
 },
 "nbformat": 4,
 "nbformat_minor": 5
}
